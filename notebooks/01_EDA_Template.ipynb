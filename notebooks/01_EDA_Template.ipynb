{
 "cells": [
  {
   "cell_type": "markdown",
   "id": "8e1fdc38-826e-4dde-93fd-a56526f7c7d2",
   "metadata": {},
   "source": [
    "# Exploratory Data Analysis Notebook"
   ]
  },
  {
   "cell_type": "markdown",
   "id": "3012a012-49fc-4f4d-8f84-6385932a71a7",
   "metadata": {},
   "source": [
    "### Description\n",
    "\n",
    "This is the May 2025 podcast listening time podcast prediction competition.\n",
    "\n",
    "The goal is to analyze and predict the average calories burn per workout.\n",
    "\n",
    "### Files\n",
    "1. train.csv\n",
    "2. test.csv\n",
    "3. sample_submission.csv\n",
    "\n",
    "### Evaluation\n",
    "\n",
    "The evaluation metric for this competition is Root Mean Squared Logarithmic Error..\n",
    "\n",
    "Submission File\n",
    "For each id in the test set, you must predict the number of minutes listened. The file should contain a header and have the following format:\n",
    "\n",
    "- id,Listening_Time_minutes\n",
    "- 26570,0.2\n",
    "- 26571,0.1\n",
    "- 26572,0.9\n",
    "- etc."
   ]
  },
  {
   "cell_type": "markdown",
   "id": "2637b1fe-fb62-4fa5-86ce-2d807ee19921",
   "metadata": {},
   "source": [
    "## Package Importing"
   ]
  },
  {
   "cell_type": "code",
   "execution_count": 1,
   "id": "75e347cd-e2f8-4270-9b14-041e4028aab7",
   "metadata": {},
   "outputs": [
    {
     "data": {
      "text/html": [
       "\n",
       "            <div>\n",
       "                <ins><a href=\"https://ydata.ai/register\">Upgrade to ydata-sdk</a></ins>\n",
       "                <p>\n",
       "                    Improve your data and profiling with ydata-sdk, featuring data quality scoring, redundancy detection, outlier identification, text validation, and synthetic data generation.\n",
       "                </p>\n",
       "            </div>\n",
       "            "
      ],
      "text/plain": [
       "<IPython.core.display.HTML object>"
      ]
     },
     "metadata": {},
     "output_type": "display_data"
    }
   ],
   "source": [
    "# general python libraries\n",
    "import time\n",
    "import sys\n",
    "import datetime\n",
    "import math\n",
    "import numpy as np\n",
    "\n",
    "# dataframe and data manipulation library\n",
    "import pandas as pd\n",
    "\n",
    "# visualisation and EDA libraries\n",
    "import matplotlib.pyplot as  plt\n",
    "import ydata_profiling\n",
    "import seaborn as sns\n",
    "\n",
    "# machine learning libraries\n",
    "import sklearn\n",
    "from sklearn.model_selection import train_test_split\n",
    "from sklearn.model_selection import KFold\n",
    "from sklearn import metrics"
   ]
  },
  {
   "cell_type": "markdown",
   "id": "c4b13bab-9a46-4bb1-85d9-96fb9772c522",
   "metadata": {},
   "source": [
    "## Data Importing"
   ]
  },
  {
   "cell_type": "code",
   "execution_count": 15,
   "id": "cda84914",
   "metadata": {},
   "outputs": [],
   "source": [
    "TARGET_COLUMN = 'Calories'"
   ]
  },
  {
   "cell_type": "code",
   "execution_count": 16,
   "id": "a851cfe7-1f76-472a-9d3a-1d46b8daec9b",
   "metadata": {},
   "outputs": [],
   "source": [
    "folder_path = '../data/raw'\n",
    "train_data = pd.read_csv(f'{folder_path}/train.csv', index_col='id')\n",
    "test_data = pd.read_csv(f'{folder_path}/test.csv', index_col='id')\n",
    "sample = pd.read_csv(f'{folder_path}/sample_submission.csv', index_col='id')"
   ]
  },
  {
   "cell_type": "markdown",
   "id": "0bc979d8-e1e6-4100-a583-7629d84e7b3b",
   "metadata": {
    "tags": []
   },
   "source": [
    "## Dataset Summaries and Heads"
   ]
  },
  {
   "cell_type": "code",
   "execution_count": 17,
   "id": "6402df72-9b00-4333-8f0b-a40f159af9e6",
   "metadata": {
    "tags": []
   },
   "outputs": [
    {
     "name": "stdout",
     "output_type": "stream",
     "text": [
      "Number of rows in train data:    \t 750000\n",
      "Number of columns in train data: \t 8\n",
      "\n",
      "Number of rows in test data:     \t 250000\n",
      "Number of columns in test data:  \t 7\n",
      "\n",
      "Number of rows in sample data:   \t 250000\n",
      "Number of column in sample data: \t 1\n"
     ]
    }
   ],
   "source": [
    "print(\"Number of rows in train data:    \\t\",train_data.shape[0])\n",
    "print(\"Number of columns in train data: \\t\",train_data.shape[1])\n",
    "print(\"\\nNumber of rows in test data:     \\t\",test_data.shape[0])\n",
    "print(\"Number of columns in test data:  \\t\",test_data.shape[1])\n",
    "print(\"\\nNumber of rows in sample data:   \\t\",sample.shape[0])\n",
    "print(\"Number of column in sample data: \\t\",sample.shape[1])"
   ]
  },
  {
   "cell_type": "code",
   "execution_count": 18,
   "id": "1c072643-bcda-41c7-a2d5-91f632f46018",
   "metadata": {},
   "outputs": [
    {
     "name": "stdout",
     "output_type": "stream",
     "text": [
      "float64    6\n",
      "object     1\n",
      "int64      1\n",
      "Name: count, dtype: int64\n"
     ]
    }
   ],
   "source": [
    "# check datatypes of columns\n",
    "print(train_data.dtypes.value_counts())"
   ]
  },
  {
   "cell_type": "code",
   "execution_count": 19,
   "id": "8b082bcb-5dcd-4ee8-b35a-44dd40cdbb0b",
   "metadata": {},
   "outputs": [
    {
     "name": "stdout",
     "output_type": "stream",
     "text": [
      "non-numeric column categories based on data from  750000 rows\n"
     ]
    },
    {
     "data": {
      "text/plain": [
       "Text(0, 0.5, 'number_of_distinct_categories')"
      ]
     },
     "execution_count": 19,
     "metadata": {},
     "output_type": "execute_result"
    },
    {
     "data": {
      "image/png": "[encoded data removed]",
      "text/plain": [
       "<Figure size 1000x300 with 1 Axes>"
      ]
     },
     "metadata": {},
     "output_type": "display_data"
    }
   ],
   "source": [
    "# save names of categorical columns\n",
    "numeric_cols = train_data.dtypes[train_data.dtypes != \"object\"].index\n",
    "cat_cols = train_data.dtypes[train_data.dtypes == \"object\"].index\n",
    "\n",
    "# view cardinalitites of categorical columns\n",
    "print('non-numeric column categories based on data from ', train_data.shape[0],'rows')\n",
    "\n",
    "cat_name = []\n",
    "nunique_vals = []\n",
    "for i in cat_cols:\n",
    "    cat_name.append(i)\n",
    "    nunique_vals.append(train_data.loc[:,i].nunique())\n",
    "\n",
    "cat_counts = pd.Series(data=nunique_vals,index=cat_name).sort_values(ascending = False)\n",
    "\n",
    "fig = plt.figure(figsize=(10,3*len(cat_counts)))\n",
    "ax = sns.barplot(y = cat_counts.index, x = cat_counts, orient='h')\n",
    "\n",
    "ax.set_xlabel(None)\n",
    "ax.set_ylabel('number_of_distinct_categories')"
   ]
  },
  {
   "cell_type": "code",
   "execution_count": 20,
   "id": "e68b57a3-7d3d-4415-bf8e-967582d8d4f1",
   "metadata": {},
   "outputs": [
    {
     "data": {
      "text/html": [
       "<div>\n",
       "<style scoped>\n",
       "    .dataframe tbody tr th:only-of-type {\n",
       "        vertical-align: middle;\n",
       "    }\n",
       "\n",
       "    .dataframe tbody tr th {\n",
       "        vertical-align: top;\n",
       "    }\n",
       "\n",
       "    .dataframe thead th {\n",
       "        text-align: right;\n",
       "    }\n",
       "</style>\n",
       "<table border=\"1\" class=\"dataframe\">\n",
       "  <thead>\n",
       "    <tr style=\"text-align: right;\">\n",
       "      <th></th>\n",
       "      <th>Sex</th>\n",
       "      <th>Age</th>\n",
       "      <th>Height</th>\n",
       "      <th>Weight</th>\n",
       "      <th>Duration</th>\n",
       "      <th>Heart_Rate</th>\n",
       "      <th>Body_Temp</th>\n",
       "      <th>Calories</th>\n",
       "    </tr>\n",
       "    <tr>\n",
       "      <th>id</th>\n",
       "      <th></th>\n",
       "      <th></th>\n",
       "      <th></th>\n",
       "      <th></th>\n",
       "      <th></th>\n",
       "      <th></th>\n",
       "      <th></th>\n",
       "      <th></th>\n",
       "    </tr>\n",
       "  </thead>\n",
       "  <tbody>\n",
       "    <tr>\n",
       "      <th>0</th>\n",
       "      <td>male</td>\n",
       "      <td>36</td>\n",
       "      <td>189.0</td>\n",
       "      <td>82.0</td>\n",
       "      <td>26.0</td>\n",
       "      <td>101.0</td>\n",
       "      <td>41.0</td>\n",
       "      <td>150.0</td>\n",
       "    </tr>\n",
       "    <tr>\n",
       "      <th>1</th>\n",
       "      <td>female</td>\n",
       "      <td>64</td>\n",
       "      <td>163.0</td>\n",
       "      <td>60.0</td>\n",
       "      <td>8.0</td>\n",
       "      <td>85.0</td>\n",
       "      <td>39.7</td>\n",
       "      <td>34.0</td>\n",
       "    </tr>\n",
       "    <tr>\n",
       "      <th>2</th>\n",
       "      <td>female</td>\n",
       "      <td>51</td>\n",
       "      <td>161.0</td>\n",
       "      <td>64.0</td>\n",
       "      <td>7.0</td>\n",
       "      <td>84.0</td>\n",
       "      <td>39.8</td>\n",
       "      <td>29.0</td>\n",
       "    </tr>\n",
       "    <tr>\n",
       "      <th>3</th>\n",
       "      <td>male</td>\n",
       "      <td>20</td>\n",
       "      <td>192.0</td>\n",
       "      <td>90.0</td>\n",
       "      <td>25.0</td>\n",
       "      <td>105.0</td>\n",
       "      <td>40.7</td>\n",
       "      <td>140.0</td>\n",
       "    </tr>\n",
       "    <tr>\n",
       "      <th>4</th>\n",
       "      <td>female</td>\n",
       "      <td>38</td>\n",
       "      <td>166.0</td>\n",
       "      <td>61.0</td>\n",
       "      <td>25.0</td>\n",
       "      <td>102.0</td>\n",
       "      <td>40.6</td>\n",
       "      <td>146.0</td>\n",
       "    </tr>\n",
       "  </tbody>\n",
       "</table>\n",
       "</div>"
      ],
      "text/plain": [
       "       Sex  Age  Height  Weight  Duration  Heart_Rate  Body_Temp  Calories\n",
       "id                                                                        \n",
       "0     male   36   189.0    82.0      26.0       101.0       41.0     150.0\n",
       "1   female   64   163.0    60.0       8.0        85.0       39.7      34.0\n",
       "2   female   51   161.0    64.0       7.0        84.0       39.8      29.0\n",
       "3     male   20   192.0    90.0      25.0       105.0       40.7     140.0\n",
       "4   female   38   166.0    61.0      25.0       102.0       40.6     146.0"
      ]
     },
     "execution_count": 20,
     "metadata": {},
     "output_type": "execute_result"
    }
   ],
   "source": [
    "train_data.head()"
   ]
  },
  {
   "cell_type": "code",
   "execution_count": 21,
   "id": "a3db523c-372d-4635-b13d-3a2b312c9aaf",
   "metadata": {},
   "outputs": [
    {
     "data": {
      "text/html": [
       "<div>\n",
       "<style scoped>\n",
       "    .dataframe tbody tr th:only-of-type {\n",
       "        vertical-align: middle;\n",
       "    }\n",
       "\n",
       "    .dataframe tbody tr th {\n",
       "        vertical-align: top;\n",
       "    }\n",
       "\n",
       "    .dataframe thead th {\n",
       "        text-align: right;\n",
       "    }\n",
       "</style>\n",
       "<table border=\"1\" class=\"dataframe\">\n",
       "  <thead>\n",
       "    <tr style=\"text-align: right;\">\n",
       "      <th></th>\n",
       "      <th>Sex</th>\n",
       "      <th>Age</th>\n",
       "      <th>Height</th>\n",
       "      <th>Weight</th>\n",
       "      <th>Duration</th>\n",
       "      <th>Heart_Rate</th>\n",
       "      <th>Body_Temp</th>\n",
       "    </tr>\n",
       "    <tr>\n",
       "      <th>id</th>\n",
       "      <th></th>\n",
       "      <th></th>\n",
       "      <th></th>\n",
       "      <th></th>\n",
       "      <th></th>\n",
       "      <th></th>\n",
       "      <th></th>\n",
       "    </tr>\n",
       "  </thead>\n",
       "  <tbody>\n",
       "    <tr>\n",
       "      <th>750000</th>\n",
       "      <td>male</td>\n",
       "      <td>45</td>\n",
       "      <td>177.0</td>\n",
       "      <td>81.0</td>\n",
       "      <td>7.0</td>\n",
       "      <td>87.0</td>\n",
       "      <td>39.8</td>\n",
       "    </tr>\n",
       "    <tr>\n",
       "      <th>750001</th>\n",
       "      <td>male</td>\n",
       "      <td>26</td>\n",
       "      <td>200.0</td>\n",
       "      <td>97.0</td>\n",
       "      <td>20.0</td>\n",
       "      <td>101.0</td>\n",
       "      <td>40.5</td>\n",
       "    </tr>\n",
       "    <tr>\n",
       "      <th>750002</th>\n",
       "      <td>female</td>\n",
       "      <td>29</td>\n",
       "      <td>188.0</td>\n",
       "      <td>85.0</td>\n",
       "      <td>16.0</td>\n",
       "      <td>102.0</td>\n",
       "      <td>40.4</td>\n",
       "    </tr>\n",
       "    <tr>\n",
       "      <th>750003</th>\n",
       "      <td>female</td>\n",
       "      <td>39</td>\n",
       "      <td>172.0</td>\n",
       "      <td>73.0</td>\n",
       "      <td>20.0</td>\n",
       "      <td>107.0</td>\n",
       "      <td>40.6</td>\n",
       "    </tr>\n",
       "    <tr>\n",
       "      <th>750004</th>\n",
       "      <td>female</td>\n",
       "      <td>30</td>\n",
       "      <td>173.0</td>\n",
       "      <td>67.0</td>\n",
       "      <td>16.0</td>\n",
       "      <td>94.0</td>\n",
       "      <td>40.5</td>\n",
       "    </tr>\n",
       "  </tbody>\n",
       "</table>\n",
       "</div>"
      ],
      "text/plain": [
       "           Sex  Age  Height  Weight  Duration  Heart_Rate  Body_Temp\n",
       "id                                                                  \n",
       "750000    male   45   177.0    81.0       7.0        87.0       39.8\n",
       "750001    male   26   200.0    97.0      20.0       101.0       40.5\n",
       "750002  female   29   188.0    85.0      16.0       102.0       40.4\n",
       "750003  female   39   172.0    73.0      20.0       107.0       40.6\n",
       "750004  female   30   173.0    67.0      16.0        94.0       40.5"
      ]
     },
     "execution_count": 21,
     "metadata": {},
     "output_type": "execute_result"
    }
   ],
   "source": [
    "test_data.head()"
   ]
  },
  {
   "cell_type": "code",
   "execution_count": 22,
   "id": "963da1de-10ed-4bf0-bd8b-93dc0c78fab7",
   "metadata": {},
   "outputs": [
    {
     "data": {
      "text/html": [
       "<div>\n",
       "<style scoped>\n",
       "    .dataframe tbody tr th:only-of-type {\n",
       "        vertical-align: middle;\n",
       "    }\n",
       "\n",
       "    .dataframe tbody tr th {\n",
       "        vertical-align: top;\n",
       "    }\n",
       "\n",
       "    .dataframe thead th {\n",
       "        text-align: right;\n",
       "    }\n",
       "</style>\n",
       "<table border=\"1\" class=\"dataframe\">\n",
       "  <thead>\n",
       "    <tr style=\"text-align: right;\">\n",
       "      <th></th>\n",
       "      <th>Calories</th>\n",
       "    </tr>\n",
       "    <tr>\n",
       "      <th>id</th>\n",
       "      <th></th>\n",
       "    </tr>\n",
       "  </thead>\n",
       "  <tbody>\n",
       "    <tr>\n",
       "      <th>750000</th>\n",
       "      <td>88.283</td>\n",
       "    </tr>\n",
       "    <tr>\n",
       "      <th>750001</th>\n",
       "      <td>88.283</td>\n",
       "    </tr>\n",
       "    <tr>\n",
       "      <th>750002</th>\n",
       "      <td>88.283</td>\n",
       "    </tr>\n",
       "    <tr>\n",
       "      <th>750003</th>\n",
       "      <td>88.283</td>\n",
       "    </tr>\n",
       "    <tr>\n",
       "      <th>750004</th>\n",
       "      <td>88.283</td>\n",
       "    </tr>\n",
       "  </tbody>\n",
       "</table>\n",
       "</div>"
      ],
      "text/plain": [
       "        Calories\n",
       "id              \n",
       "750000    88.283\n",
       "750001    88.283\n",
       "750002    88.283\n",
       "750003    88.283\n",
       "750004    88.283"
      ]
     },
     "execution_count": 22,
     "metadata": {},
     "output_type": "execute_result"
    }
   ],
   "source": [
    "sample.head()"
   ]
  },
  {
   "cell_type": "code",
   "execution_count": 23,
   "id": "c9713b7e-ab43-4989-9e59-67c6732e3996",
   "metadata": {},
   "outputs": [
    {
     "data": {
      "text/html": [
       "<div>\n",
       "<style scoped>\n",
       "    .dataframe tbody tr th:only-of-type {\n",
       "        vertical-align: middle;\n",
       "    }\n",
       "\n",
       "    .dataframe tbody tr th {\n",
       "        vertical-align: top;\n",
       "    }\n",
       "\n",
       "    .dataframe thead th {\n",
       "        text-align: right;\n",
       "    }\n",
       "</style>\n",
       "<table border=\"1\" class=\"dataframe\">\n",
       "  <thead>\n",
       "    <tr style=\"text-align: right;\">\n",
       "      <th></th>\n",
       "      <th>Total</th>\n",
       "      <th>Percent</th>\n",
       "    </tr>\n",
       "  </thead>\n",
       "  <tbody>\n",
       "    <tr>\n",
       "      <th>Sex</th>\n",
       "      <td>0</td>\n",
       "      <td>0.0</td>\n",
       "    </tr>\n",
       "    <tr>\n",
       "      <th>Age</th>\n",
       "      <td>0</td>\n",
       "      <td>0.0</td>\n",
       "    </tr>\n",
       "    <tr>\n",
       "      <th>Height</th>\n",
       "      <td>0</td>\n",
       "      <td>0.0</td>\n",
       "    </tr>\n",
       "    <tr>\n",
       "      <th>Weight</th>\n",
       "      <td>0</td>\n",
       "      <td>0.0</td>\n",
       "    </tr>\n",
       "    <tr>\n",
       "      <th>Duration</th>\n",
       "      <td>0</td>\n",
       "      <td>0.0</td>\n",
       "    </tr>\n",
       "    <tr>\n",
       "      <th>Heart_Rate</th>\n",
       "      <td>0</td>\n",
       "      <td>0.0</td>\n",
       "    </tr>\n",
       "    <tr>\n",
       "      <th>Body_Temp</th>\n",
       "      <td>0</td>\n",
       "      <td>0.0</td>\n",
       "    </tr>\n",
       "    <tr>\n",
       "      <th>Calories</th>\n",
       "      <td>0</td>\n",
       "      <td>0.0</td>\n",
       "    </tr>\n",
       "  </tbody>\n",
       "</table>\n",
       "</div>"
      ],
      "text/plain": [
       "            Total  Percent\n",
       "Sex             0      0.0\n",
       "Age             0      0.0\n",
       "Height          0      0.0\n",
       "Weight          0      0.0\n",
       "Duration        0      0.0\n",
       "Heart_Rate      0      0.0\n",
       "Body_Temp       0      0.0\n",
       "Calories        0      0.0"
      ]
     },
     "execution_count": 23,
     "metadata": {},
     "output_type": "execute_result"
    }
   ],
   "source": [
    "# checking missing data\n",
    "total = train_data.isnull().sum().sort_values(ascending = False)\n",
    "percent = (train_data.isnull().sum()/train_data.isnull().count()*100).sort_values(ascending = False)\n",
    "missing_train_data  = pd.concat([total, percent], axis=1, keys=['Total', 'Percent'])\n",
    "missing_train_data"
   ]
  },
  {
   "cell_type": "code",
   "execution_count": 27,
   "id": "29a070f2-c4fe-4538-baf7-358c4543f766",
   "metadata": {
    "tags": []
   },
   "outputs": [
    {
     "data": {
      "text/plain": [
       "<seaborn.axisgrid.FacetGrid at 0x16e9a6f00>"
      ]
     },
     "execution_count": 27,
     "metadata": {},
     "output_type": "execute_result"
    },
    {
     "data": {
      "image/png": "[encoded data removed]",
      "text/plain": [
       "<Figure size 500x500 with 1 Axes>"
      ]
     },
     "metadata": {},
     "output_type": "display_data"
    }
   ],
   "source": [
    "# checking target variable percentage\n",
    "sns.displot(x=\"Calories\", data=train_data)"
   ]
  },
  {
   "cell_type": "code",
   "execution_count": 20,
   "id": "bcfbd3e9-71c9-4d41-b4f5-fe2b4d3b4c30",
   "metadata": {},
   "outputs": [
    {
     "data": {
      "text/plain": [
       "Index(['id', 'Podcast_Name', 'Episode_Title', 'Episode_Length_minutes',\n",
       "       'Genre', 'Host_Popularity_percentage', 'Publication_Day',\n",
       "       'Publication_Time', 'Guest_Popularity_percentage', 'Number_of_Ads',\n",
       "       'Episode_Sentiment', 'Listening_Time_minutes'],\n",
       "      dtype='object')"
      ]
     },
     "execution_count": 20,
     "metadata": {},
     "output_type": "execute_result"
    }
   ],
   "source": [
    "train_data.columns"
   ]
  },
  {
   "cell_type": "markdown",
   "id": "f2bd33fc-6373-4036-86cb-955f3350ac5f",
   "metadata": {},
   "source": [
    "each of the products could have very different behaviours and be from different populations. And so it may make sense to look at each on of these individually"
   ]
  },
  {
   "cell_type": "markdown",
   "id": "0ec37804-858b-4d55-9808-4c410e5c4144",
   "metadata": {
    "tags": []
   },
   "source": [
    "## Static Profiling"
   ]
  },
  {
   "cell_type": "code",
   "execution_count": null,
   "id": "cd0364fd-3e82-4454-b836-132f61078c16",
   "metadata": {},
   "outputs": [],
   "source": [
    "# sample data if required if reports too big\n",
    "# train_sample = train_data.sample(10000)\n",
    "\n",
    "# drop id column\n",
    "# train_sample.drop('id',axis = 1, inplace=True)\n",
    "\n",
    "# drop index or else that will also be profiled\n",
    "# train_sample.reset_index(drop=True, inplace=True)"
   ]
  },
  {
   "cell_type": "code",
   "execution_count": 23,
   "id": "13289cc9-7726-4b1b-b7ca-42a44c7367a9",
   "metadata": {},
   "outputs": [
    {
     "name": "stderr",
     "output_type": "stream",
     "text": [
      "100%|██████████| 12/12 [00:00<00:00, 24.17it/s]<00:04,  2.25it/s, Describe variable: Listening_Time_minutes]\n",
      "Summarize dataset: 100%|██████████| 18/18 [00:02<00:00,  8.13it/s, Completed]                               \n",
      "Generate report structure: 100%|██████████| 1/1 [00:03<00:00,  3.75s/it]\n",
      "Render HTML: 100%|██████████| 1/1 [00:00<00:00,  4.09it/s]\n",
      "Export report to file: 100%|██████████| 1/1 [00:00<00:00, 312.31it/s]\n"
     ]
    }
   ],
   "source": [
    "# create minimal report in reports\n",
    "minimal_report = train_data.profile_report(title=\"Minimal Report\",minimal=True)\n",
    "minimal_report.to_file(\"../reports/pp_eda_minimal.html\")\n",
    "#minimal_report.to_notebook_iframe()"
   ]
  },
  {
   "cell_type": "code",
   "execution_count": 28,
   "id": "e79a7647-1c18-4d60-b203-d3b1822bbebf",
   "metadata": {},
   "outputs": [
    {
     "data": {
      "application/vnd.jupyter.widget-view+json": {
       "model_id": "9173bca5bef5492da2d8b662db41a751",
       "version_major": 2,
       "version_minor": 0
      },
      "text/plain": [
       "Summarize dataset:   0%|          | 0/5 [00:00<?, ?it/s]"
      ]
     },
     "metadata": {},
     "output_type": "display_data"
    },
    {
     "name": "stderr",
     "output_type": "stream",
     "text": [
      "100%|██████████| 8/8 [00:00<00:00, 20.26it/s]\n"
     ]
    },
    {
     "data": {
      "application/vnd.jupyter.widget-view+json": {
       "model_id": "a2e4f274ec2f480ca59d7f2c62d954bc",
       "version_major": 2,
       "version_minor": 0
      },
      "text/plain": [
       "Generate report structure:   0%|          | 0/1 [00:00<?, ?it/s]"
      ]
     },
     "metadata": {},
     "output_type": "display_data"
    },
    {
     "data": {
      "application/vnd.jupyter.widget-view+json": {
       "model_id": "a7490eb7efdd4bc4a8699417646554e3",
       "version_major": 2,
       "version_minor": 0
      },
      "text/plain": [
       "Render HTML:   0%|          | 0/1 [00:00<?, ?it/s]"
      ]
     },
     "metadata": {},
     "output_type": "display_data"
    },
    {
     "data": {
      "application/vnd.jupyter.widget-view+json": {
       "model_id": "e18a29833db44b2fa75daac500863bda",
       "version_major": 2,
       "version_minor": 0
      },
      "text/plain": [
       "Export report to file:   0%|          | 0/1 [00:00<?, ?it/s]"
      ]
     },
     "metadata": {},
     "output_type": "display_data"
    },
    {
     "name": "stderr",
     "output_type": "stream",
     "text": [
      "Exception ignored in: <function ResourceTracker.__del__ at 0x1064c8680>\n",
      "Traceback (most recent call last):\n",
      "  File \"/opt/homebrew/Cellar/python@3.12/3.12.10/Frameworks/Python.framework/Versions/3.12/lib/python3.12/multiprocessing/resource_tracker.py\", line 77, in __del__\n",
      "  File \"/opt/homebrew/Cellar/python@3.12/3.12.10/Frameworks/Python.framework/Versions/3.12/lib/python3.12/multiprocessing/resource_tracker.py\", line 86, in _stop\n",
      "  File \"/opt/homebrew/Cellar/python@3.12/3.12.10/Frameworks/Python.framework/Versions/3.12/lib/python3.12/multiprocessing/resource_tracker.py\", line 111, in _stop_locked\n",
      "ChildProcessError: [Errno 10] No child processes\n",
      "Exception ignored in: <function ResourceTracker.__del__ at 0x107474680>\n",
      "Traceback (most recent call last):\n",
      "  File \"/opt/homebrew/Cellar/python@3.12/3.12.10/Frameworks/Python.framework/Versions/3.12/lib/python3.12/multiprocessing/resource_tracker.py\", line 77, in __del__\n",
      "  File \"/opt/homebrew/Cellar/python@3.12/3.12.10/Frameworks/Python.framework/Versions/3.12/lib/python3.12/multiprocessing/resource_tracker.py\", line 86, in _stop\n",
      "  File \"/opt/homebrew/Cellar/python@3.12/3.12.10/Frameworks/Python.framework/Versions/3.12/lib/python3.12/multiprocessing/resource_tracker.py\", line 111, in _stop_locked\n",
      "ChildProcessError: [Errno 10] No child processes\n",
      "Exception ignored in: <function ResourceTracker.__del__ at 0x1025d4680>\n",
      "Traceback (most recent call last):\n",
      "  File \"/opt/homebrew/Cellar/python@3.12/3.12.10/Frameworks/Python.framework/Versions/3.12/lib/python3.12/multiprocessing/resource_tracker.py\", line 77, in __del__\n",
      "  File \"/opt/homebrew/Cellar/python@3.12/3.12.10/Frameworks/Python.framework/Versions/3.12/lib/python3.12/multiprocessing/resource_tracker.py\", line 86, in _stop\n",
      "  File \"/opt/homebrew/Cellar/python@3.12/3.12.10/Frameworks/Python.framework/Versions/3.12/lib/python3.12/multiprocessing/resource_tracker.py\", line 111, in _stop_locked\n",
      "ChildProcessError: [Errno 10] No child processes\n",
      "Exception ignored in: <function ResourceTracker.__del__ at 0x105f78680>\n",
      "Traceback (most recent call last):\n",
      "  File \"/opt/homebrew/Cellar/python@3.12/3.12.10/Frameworks/Python.framework/Versions/3.12/lib/python3.12/multiprocessing/resource_tracker.py\", line 77, in __del__\n",
      "  File \"/opt/homebrew/Cellar/python@3.12/3.12.10/Frameworks/Python.framework/Versions/3.12/lib/python3.12/multiprocessing/resource_tracker.py\", line 86, in _stop\n",
      "  File \"/opt/homebrew/Cellar/python@3.12/3.12.10/Frameworks/Python.framework/Versions/3.12/lib/python3.12/multiprocessing/resource_tracker.py\", line 111, in _stop_locked\n",
      "ChildProcessError: [Errno 10] No child processes\n",
      "Exception ignored in: <function ResourceTracker.__del__ at 0x1040c4680>\n",
      "Traceback (most recent call last):\n",
      "  File \"/opt/homebrew/Cellar/python@3.12/3.12.10/Frameworks/Python.framework/Versions/3.12/lib/python3.12/multiprocessing/resource_tracker.py\", line 77, in __del__\n",
      "  File \"/opt/homebrew/Cellar/python@3.12/3.12.10/Frameworks/Python.framework/Versions/3.12/lib/python3.12/multiprocessing/resource_tracker.py\", line 86, in _stop\n",
      "  File \"/opt/homebrew/Cellar/python@3.12/3.12.10/Frameworks/Python.framework/Versions/3.12/lib/python3.12/multiprocessing/resource_tracker.py\", line 111, in _stop_locked\n",
      "ChildProcessError: [Errno 10] No child processes\n",
      "Exception ignored in: <function ResourceTracker.__del__ at 0x104b24680>\n",
      "Traceback (most recent call last):\n",
      "  File \"/opt/homebrew/Cellar/python@3.12/3.12.10/Frameworks/Python.framework/Versions/3.12/lib/python3.12/multiprocessing/resource_tracker.py\", line 77, in __del__\n",
      "  File \"/opt/homebrew/Cellar/python@3.12/3.12.10/Frameworks/Python.framework/Versions/3.12/lib/python3.12/multiprocessing/resource_tracker.py\", line 86, in _stop\n",
      "  File \"/opt/homebrew/Cellar/python@3.12/3.12.10/Frameworks/Python.framework/Versions/3.12/lib/python3.12/multiprocessing/resource_tracker.py\", line 111, in _stop_locked\n",
      "ChildProcessError: [Errno 10] No child processes\n",
      "Exception ignored in: <function ResourceTracker.__del__ at 0x105c34680>\n",
      "Traceback (most recent call last):\n",
      "  File \"/opt/homebrew/Cellar/python@3.12/3.12.10/Frameworks/Python.framework/Versions/3.12/lib/python3.12/multiprocessing/resource_tracker.py\", line 77, in __del__\n",
      "  File \"/opt/homebrew/Cellar/python@3.12/3.12.10/Frameworks/Python.framework/Versions/3.12/lib/python3.12/multiprocessing/resource_tracker.py\", line 86, in _stop\n",
      "  File \"/opt/homebrew/Cellar/python@3.12/3.12.10/Frameworks/Python.framework/Versions/3.12/lib/python3.12/multiprocessing/resource_tracker.py\", line 111, in _stop_locked\n",
      "ChildProcessError: [Errno 10] No child processes\n",
      "Exception ignored in: <function ResourceTracker.__del__ at 0x104f88680>\n",
      "Traceback (most recent call last):\n",
      "  File \"/opt/homebrew/Cellar/python@3.12/3.12.10/Frameworks/Python.framework/Versions/3.12/lib/python3.12/multiprocessing/resource_tracker.py\", line 77, in __del__\n",
      "  File \"/opt/homebrew/Cellar/python@3.12/3.12.10/Frameworks/Python.framework/Versions/3.12/lib/python3.12/multiprocessing/resource_tracker.py\", line 86, in _stop\n",
      "  File \"/opt/homebrew/Cellar/python@3.12/3.12.10/Frameworks/Python.framework/Versions/3.12/lib/python3.12/multiprocessing/resource_tracker.py\", line 111, in _stop_locked\n",
      "ChildProcessError: [Errno 10] No child processes\n",
      "Exception ignored in: <function ResourceTracker.__del__ at 0x106e58680>\n",
      "Traceback (most recent call last):\n",
      "  File \"/opt/homebrew/Cellar/python@3.12/3.12.10/Frameworks/Python.framework/Versions/3.12/lib/python3.12/multiprocessing/resource_tracker.py\", line 77, in __del__\n",
      "  File \"/opt/homebrew/Cellar/python@3.12/3.12.10/Frameworks/Python.framework/Versions/3.12/lib/python3.12/multiprocessing/resource_tracker.py\", line 86, in _stop\n",
      "  File \"/opt/homebrew/Cellar/python@3.12/3.12.10/Frameworks/Python.framework/Versions/3.12/lib/python3.12/multiprocessing/resource_tracker.py\", line 111, in _stop_locked\n",
      "ChildProcessError: [Errno 10] No child processes\n",
      "Exception ignored in: <function ResourceTracker.__del__ at 0x104c74680>\n",
      "Traceback (most recent call last):\n",
      "  File \"/opt/homebrew/Cellar/python@3.12/3.12.10/Frameworks/Python.framework/Versions/3.12/lib/python3.12/multiprocessing/resource_tracker.py\", line 77, in __del__\n",
      "  File \"/opt/homebrew/Cellar/python@3.12/3.12.10/Frameworks/Python.framework/Versions/3.12/lib/python3.12/multiprocessing/resource_tracker.py\", line 86, in _stop\n",
      "  File \"/opt/homebrew/Cellar/python@3.12/3.12.10/Frameworks/Python.framework/Versions/3.12/lib/python3.12/multiprocessing/resource_tracker.py\", line 111, in _stop_locked\n",
      "ChildProcessError: [Errno 10] No child processes\n"
     ]
    }
   ],
   "source": [
    "# set of parameters to create customer report\n",
    "train_data.profile_report(\n",
    "    title=\"Custom Report\",\n",
    "    # create missing/null value diagrams\n",
    "    # disable if no missing values\n",
    "    missing_diagrams={\n",
    "        \"heatmap\": True,\n",
    "        \"dendrogram\": True,\n",
    "        \"bar\": True,\n",
    "        \"matrix\":True\n",
    "    # create all correlation plots\n",
    "    # the correlations and interactions come together\n",
    "    # the correlations section dictates which corrs will be run\n",
    "    # the interactions dicatates which variables\n",
    "    },correlations={\n",
    "        # strength and directional\n",
    "        # continuous vars, linear, sensitive to outliers, normal dist\n",
    "        \"pearson\": {\"calculate\": True},\n",
    "        # strength and directional\n",
    "        # categorical or quant, linear, no outliers\n",
    "        \"spearman\": {\"calculate\": False},\n",
    "        # 0-1\n",
    "        # dependence of 2 vars.\n",
    "        \"kendall\": {\"calculate\": True},\n",
    "        # no direction, categorical, ordinal, interval\n",
    "        # non-linear dependency\n",
    "        # computationally expensive\n",
    "        \"phi_k\": {\"calculate\": True}, # this one is one of the most intensive ones\n",
    "        # compares 2 categorical vars\n",
    "        # based on chi-squared test stat\n",
    "        # sensitive to outlies\n",
    "        \"cramers\": {\"calculate\": True}\n",
    "    },interactions = {\n",
    "        # this generates 2d scatter, this will cause crash if too many variables\n",
    "        \"continuous\": False,\n",
    "        # comment continouous out and put in \n",
    "        # target var to see scatter between\n",
    "        # only these values and all other\n",
    "        # values\n",
    "        \"targets\": ['Listening_Time_minutes']\n",
    "    },html = {\n",
    "        \"style\": {\"theme\":\"flatly\"}\n",
    "    }\n",
    "    \n",
    "    \n",
    ").to_file(\"../reports/pp_eda_custom.html\")"
   ]
  },
  {
   "cell_type": "markdown",
   "id": "4566be91-7eeb-4e09-ae0f-840aeacdeff7",
   "metadata": {},
   "source": [
    "## Data Cleaning\n",
    "\n",
    "Creation of data cleaning function to;\n",
    "- Impute NULL Values\n",
    "- Parse Multi-part string columns\n",
    "- Drop columns\n",
    "- Encode categorical variables\n",
    "- Normalise or scale columns"
   ]
  },
  {
   "cell_type": "code",
   "execution_count": 15,
   "id": "f19d62ae-26d3-4401-a3be-b72d8097a99a",
   "metadata": {},
   "outputs": [
    {
     "name": "stdout",
     "output_type": "stream",
     "text": [
      "missing values present: 0\n",
      "categorical columns present: 0\n"
     ]
    }
   ],
   "source": [
    "def Preprocessing(df):\n",
    "    \n",
    "    df = pd.get_dummies(df) # convert all categorical variables to dummy variables\n",
    "    \n",
    "    df = df.dropna(\n",
    "        # axis = 1 # default both axes, comment out for only 1 axis\n",
    "    ) # remvoe all na rows or columns\n",
    "    \n",
    "    return df\n",
    "\n",
    "train_data_cleaned = Preprocessing(train_data)\n",
    "\n",
    "print(\"missing values present:\",train_data_cleaned.isna().sum().sum())\n",
    "print(\"categorical columns present:\",train_data_cleaned.dtypes[train_data_cleaned.dtypes == \"object\"].count())\n",
    "\n"
   ]
  },
  {
   "cell_type": "markdown",
   "id": "f6fc92bf-099e-4fcf-8c92-82512ff2c6df",
   "metadata": {},
   "source": [
    "## Model fitting\n",
    "\n",
    "### Train Test Split\n",
    "\n",
    "Splitting data into groupings for model fitting"
   ]
  },
  {
   "cell_type": "code",
   "execution_count": 16,
   "id": "70b6b3d1-07f5-4e68-9a04-5939636048b0",
   "metadata": {},
   "outputs": [
    {
     "name": "stdout",
     "output_type": "stream",
     "text": [
      "Shape of X_train data:    \t (9746, 31)\n",
      "Shape of X_test data:    \t (2437, 31)\n",
      "Shape of y_train data:    \t (9746,)\n",
      "Shape of y_test data:    \t (2437,)\n"
     ]
    }
   ],
   "source": [
    "X_train, X_test, y_train, y_test = train_test_split(\n",
    "    train_data_cleaned.drop(['id','failure'], axis = 1), # X data excluding target variable and any irrelevant id columns\n",
    "    train_data_cleaned.loc[:,'failure'],\n",
    "    test_size = 0.2, # 0.2 is a good accepted starting point, with larger data this number can be decreased\n",
    "    random_state = 42, # random seed, default 42\n",
    "    shuffle = True # default true, check whether there is population drift over time in default order\n",
    ")\n",
    "\n",
    "print(\"Shape of X_train data:    \\t\",X_train.shape)\n",
    "print(\"Shape of X_test data:    \\t\",X_test.shape)\n",
    "print(\"Shape of y_train data:    \\t\",y_train.shape)\n",
    "print(\"Shape of y_test data:    \\t\",y_test.shape)"
   ]
  },
  {
   "cell_type": "markdown",
   "id": "ace5b3f6-9e24-4811-8cb4-cca251702b29",
   "metadata": {},
   "source": [
    "### Linear Regression"
   ]
  },
  {
   "cell_type": "code",
   "execution_count": 17,
   "id": "9805d043-32ce-4d44-888d-93208a41893f",
   "metadata": {},
   "outputs": [],
   "source": [
    "from sklearn.linear_model import LinearRegression\n",
    "# help(LinearRegression)"
   ]
  },
  {
   "cell_type": "code",
   "execution_count": 18,
   "id": "f91b6f0f-56a1-4e4c-87a8-b87c006d59a5",
   "metadata": {},
   "outputs": [],
   "source": [
    "# initialise new linear regression object model\n",
    "model = LinearRegression()"
   ]
  },
  {
   "cell_type": "code",
   "execution_count": 19,
   "id": "1cad8136-9947-4d5d-83ca-0ad7c3f4bdc5",
   "metadata": {},
   "outputs": [
    {
     "data": {
      "text/html": [
       "<style>#sk-container-id-1 {color: black;background-color: white;}#sk-container-id-1 pre{padding: 0;}#sk-container-id-1 div.sk-toggleable {background-color: white;}#sk-container-id-1 label.sk-toggleable__label {cursor: pointer;display: block;width: 100%;margin-bottom: 0;padding: 0.3em;box-sizing: border-box;text-align: center;}#sk-container-id-1 label.sk-toggleable__label-arrow:before {content: \"▸\";float: left;margin-right: 0.25em;color: #696969;}#sk-container-id-1 label.sk-toggleable__label-arrow:hover:before {color: black;}#sk-container-id-1 div.sk-estimator:hover label.sk-toggleable__label-arrow:before {color: black;}#sk-container-id-1 div.sk-toggleable__content {max-height: 0;max-width: 0;overflow: hidden;text-align: left;background-color: #f0f8ff;}#sk-container-id-1 div.sk-toggleable__content pre {margin: 0.2em;color: black;border-radius: 0.25em;background-color: #f0f8ff;}#sk-container-id-1 input.sk-toggleable__control:checked~div.sk-toggleable__content {max-height: 200px;max-width: 100%;overflow: auto;}#sk-container-id-1 input.sk-toggleable__control:checked~label.sk-toggleable__label-arrow:before {content: \"▾\";}#sk-container-id-1 div.sk-estimator input.sk-toggleable__control:checked~label.sk-toggleable__label {background-color: #d4ebff;}#sk-container-id-1 div.sk-label input.sk-toggleable__control:checked~label.sk-toggleable__label {background-color: #d4ebff;}#sk-container-id-1 input.sk-hidden--visually {border: 0;clip: rect(1px 1px 1px 1px);clip: rect(1px, 1px, 1px, 1px);height: 1px;margin: -1px;overflow: hidden;padding: 0;position: absolute;width: 1px;}#sk-container-id-1 div.sk-estimator {font-family: monospace;background-color: #f0f8ff;border: 1px dotted black;border-radius: 0.25em;box-sizing: border-box;margin-bottom: 0.5em;}#sk-container-id-1 div.sk-estimator:hover {background-color: #d4ebff;}#sk-container-id-1 div.sk-parallel-item::after {content: \"\";width: 100%;border-bottom: 1px solid gray;flex-grow: 1;}#sk-container-id-1 div.sk-label:hover label.sk-toggleable__label {background-color: #d4ebff;}#sk-container-id-1 div.sk-serial::before {content: \"\";position: absolute;border-left: 1px solid gray;box-sizing: border-box;top: 0;bottom: 0;left: 50%;z-index: 0;}#sk-container-id-1 div.sk-serial {display: flex;flex-direction: column;align-items: center;background-color: white;padding-right: 0.2em;padding-left: 0.2em;position: relative;}#sk-container-id-1 div.sk-item {position: relative;z-index: 1;}#sk-container-id-1 div.sk-parallel {display: flex;align-items: stretch;justify-content: center;background-color: white;position: relative;}#sk-container-id-1 div.sk-item::before, #sk-container-id-1 div.sk-parallel-item::before {content: \"\";position: absolute;border-left: 1px solid gray;box-sizing: border-box;top: 0;bottom: 0;left: 50%;z-index: -1;}#sk-container-id-1 div.sk-parallel-item {display: flex;flex-direction: column;z-index: 1;position: relative;background-color: white;}#sk-container-id-1 div.sk-parallel-item:first-child::after {align-self: flex-end;width: 50%;}#sk-container-id-1 div.sk-parallel-item:last-child::after {align-self: flex-start;width: 50%;}#sk-container-id-1 div.sk-parallel-item:only-child::after {width: 0;}#sk-container-id-1 div.sk-dashed-wrapped {border: 1px dashed gray;margin: 0 0.4em 0.5em 0.4em;box-sizing: border-box;padding-bottom: 0.4em;background-color: white;}#sk-container-id-1 div.sk-label label {font-family: monospace;font-weight: bold;display: inline-block;line-height: 1.2em;}#sk-container-id-1 div.sk-label-container {text-align: center;}#sk-container-id-1 div.sk-container {/* jupyter's `normalize.less` sets `[hidden] { display: none; }` but bootstrap.min.css set `[hidden] { display: none !important; }` so we also need the `!important` here to be able to override the default hidden behavior on the sphinx rendered scikit-learn.org. See: https://github.com/scikit-learn/scikit-learn/issues/21755 */display: inline-block !important;position: relative;}#sk-container-id-1 div.sk-text-repr-fallback {display: none;}</style><div id=\"sk-container-id-1\" class=\"sk-top-container\"><div class=\"sk-text-repr-fallback\"><pre>LinearRegression()</pre><b>In a Jupyter environment, please rerun this cell to show the HTML representation or trust the notebook. <br />On GitHub, the HTML representation is unable to render, please try loading this page with nbviewer.org.</b></div><div class=\"sk-container\" hidden><div class=\"sk-item\"><div class=\"sk-estimator sk-toggleable\"><input class=\"sk-toggleable__control sk-hidden--visually\" id=\"sk-estimator-id-1\" type=\"checkbox\" checked><label for=\"sk-estimator-id-1\" class=\"sk-toggleable__label sk-toggleable__label-arrow\">LinearRegression</label><div class=\"sk-toggleable__content\"><pre>LinearRegression()</pre></div></div></div></div></div>"
      ],
      "text/plain": [
       "LinearRegression()"
      ]
     },
     "execution_count": 19,
     "metadata": {},
     "output_type": "execute_result"
    }
   ],
   "source": [
    "# Fir regression model\n",
    "model.fit(X_train, y_train)"
   ]
  },
  {
   "cell_type": "code",
   "execution_count": 20,
   "id": "c2107a6e-0240-43aa-8104-c5936501135f",
   "metadata": {},
   "outputs": [],
   "source": [
    "# predict values on test set\n",
    "test_preds = model.predict(X_test)"
   ]
  },
  {
   "cell_type": "code",
   "execution_count": null,
   "id": "155d6326-be29-48cf-b56a-5920b1590974",
   "metadata": {},
   "outputs": [],
   "source": [
    "test_residuals = y_test - test_preds\n",
    "\n",
    "# ideally this is normal\n",
    "sns.scatterplot(x=y_test,y=test_residuals)\n",
    "plt.axhline(y=0,color='r',ls='--')"
   ]
  },
  {
   "cell_type": "code",
   "execution_count": null,
   "id": "4bbf8623-5faf-4b24-83b5-4bf79877bdf4",
   "metadata": {},
   "outputs": [],
   "source": [
    "# these coeffients will be in different units\n",
    "model.coef_"
   ]
  },
  {
   "cell_type": "code",
   "execution_count": null,
   "id": "351a04cb-b7e3-444e-8eb7-0d2fb1e2be3d",
   "metadata": {},
   "outputs": [],
   "source": [
    "from joblib import dump, load\n",
    "dump(model,'../models/linear_regression_model.joblib')"
   ]
  }
 ],
 "metadata": {
  "kernelspec": {
   "display_name": ".venv",
   "language": "python",
   "name": "python3"
  },
  "language_info": {
   "codemirror_mode": {
    "name": "ipython",
    "version": 3
   },
   "file_extension": ".py",
   "mimetype": "text/x-python",
   "name": "python",
   "nbconvert_exporter": "python",
   "pygments_lexer": "ipython3",
   "version": "3.12.10"
  }
 },
 "nbformat": 4,
 "nbformat_minor": 5
}
